{
 "cells": [
  {
   "cell_type": "code",
   "execution_count": 220,
   "id": "7569a22c-19e0-4252-92d2-3becdef6a562",
   "metadata": {},
   "outputs": [
    {
     "data": {
      "text/plain": [
       "True"
      ]
     },
     "execution_count": 220,
     "metadata": {},
     "output_type": "execute_result"
    }
   ],
   "source": [
    "from selenium import webdriver\n",
    "from selenium.webdriver.chrome.service import Service\n",
    "from selenium.webdriver.common.keys import Keys\n",
    "from selenium.webdriver.common.by import By\n",
    "import time\n",
    "\n",
    "# ChromeDriver setup\n",
    "path = r\"C:\\Users\\Lenovo\\Downloads\\chromedriver-win64\\chromedriver-win64\\chromedriver.exe\"\n",
    "s = Service(path)\n",
    "driver = webdriver.Chrome(service=s)\n",
    "\n",
    "# Open DuckDuckGo and search\n",
    "driver.get(\"https://duckduckgo.com\")\n",
    "time.sleep(3)\n",
    "\n",
    "box = driver.find_element(By.XPATH, '//*[@id=\"searchbox_input\"]')\n",
    "box.send_keys(\"House of Dragons\")\n",
    "box.send_keys(Keys.RETURN)\n",
    "\n",
    "time.sleep(2)\n",
    "\n",
    "# Click on the first search result\n",
    "first_result = driver.find_element(By.XPATH, '//*[@id=\"r1-4\"]/div[2]/div/div[2]/h2/a')\n",
    "first_result.click()\n",
    "\n",
    "time.sleep(2)\n",
    "\n",
    "# Save screenshot\n",
    "driver.save_screenshot(\"screenshot.png\")  # ← File will be saved in the working directory\n",
    "\n",
    "# Optional: close the browser\n",
    "# driver.quit()\n"
   ]
  },
  {
   "cell_type": "code",
   "execution_count": 166,
   "id": "109a774d-7096-4ada-aaa3-91ca5f342888",
   "metadata": {},
   "outputs": [],
   "source": [
    "\n"
   ]
  },
  {
   "cell_type": "raw",
   "id": "2d9512a5-b8ef-487c-8689-177a770b0c98",
   "metadata": {},
   "source": []
  },
  {
   "cell_type": "code",
   "execution_count": 168,
   "id": "5f4691b8-c67b-472d-8ab6-fb4e70f2aff3",
   "metadata": {},
   "outputs": [],
   "source": []
  },
  {
   "cell_type": "code",
   "execution_count": 169,
   "id": "ceacbce1-ff7f-40ee-97ac-f262ce781f38",
   "metadata": {},
   "outputs": [],
   "source": []
  },
  {
   "cell_type": "code",
   "execution_count": 171,
   "id": "172f13f7-f658-4980-9d80-08126bfcc2d3",
   "metadata": {},
   "outputs": [],
   "source": []
  },
  {
   "cell_type": "code",
   "execution_count": null,
   "id": "dc90333a-a172-43b8-97aa-9b7d5ebc8681",
   "metadata": {},
   "outputs": [],
   "source": []
  }
 ],
 "metadata": {
  "kernelspec": {
   "display_name": "Python 3 (ipykernel)",
   "language": "python",
   "name": "python3"
  },
  "language_info": {
   "codemirror_mode": {
    "name": "ipython",
    "version": 3
   },
   "file_extension": ".py",
   "mimetype": "text/x-python",
   "name": "python",
   "nbconvert_exporter": "python",
   "pygments_lexer": "ipython3",
   "version": "3.12.4"
  }
 },
 "nbformat": 4,
 "nbformat_minor": 5
}
