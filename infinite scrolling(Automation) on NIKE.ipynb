{
 "cells": [
  {
   "cell_type": "code",
   "execution_count": 232,
   "id": "586761e1-cd5a-4b87-90c3-b0baa8cf6cfc",
   "metadata": {},
   "outputs": [
    {
     "name": "stdout",
     "output_type": "stream",
     "text": [
      "Scrolling complete. Ready to scrape.\n"
     ]
    }
   ],
   "source": [
    "from selenium import webdriver\n",
    "from selenium.webdriver.chrome.service import Service\n",
    "from selenium.webdriver.common.by import By\n",
    "from selenium.webdriver.common.keys import Keys\n",
    "from selenium.webdriver.chrome.options import Options\n",
    "import time\n",
    "\n",
    "# Path to ChromeDriver\n",
    "path = r\"C:\\Users\\Lenovo\\Downloads\\chromedriver-win64\\chromedriver-win64\\chromedriver.exe\"\n",
    "s = Service(path)\n",
    "\n",
    "# Chrome Options to reduce detection\n",
    "options = Options()\n",
    "options.add_argument(\"user-agent=Mozilla/5.0 (Windows NT 10.0; Win64; x64) AppleWebKit/537.36 (KHTML, like Gecko) Chrome/122.0.0.0 Safari/537.36\")\n",
    "options.add_argument(\"--disable-blink-features=AutomationControlled\")\n",
    "options.add_experimental_option(\"excludeSwitches\", [\"enable-automation\"])\n",
    "options.add_experimental_option(\"useAutomationExtension\", False)\n",
    "\n",
    "# Launch browser with options\n",
    "driver = webdriver.Chrome(service=s, options=options)\n",
    "\n",
    "# Visit Ajio\n",
    "driver.get(\"https://www.nike.com/\")\n",
    "time.sleep(3)\n",
    "\n",
    "driver.find_element(By.XPATH,'//*[@id=\"nav-search-icon\"]').click()\n",
    "# Search for sports shoes\n",
    "sb = driver.find_element(By.XPATH, '//*[@id=\"gn-search-input\"]')\n",
    "time.sleep(2)\n",
    "sb.send_keys(\"Sports Shoes\")\n",
    "sb.send_keys(Keys.ENTER)\n",
    "time.sleep(5)\n",
    "\n",
    "# Scroll to bottom until page stops loading more content\n",
    "height = driver.execute_script(\"return document.body.scrollHeight\")\n",
    "while True:\n",
    "    driver.execute_script(\"window.scrollTo(0, document.body.scrollHeight);\")\n",
    "    time.sleep(3)\n",
    "    new_height = driver.execute_script(\"return document.body.scrollHeight\")\n",
    "    if height == new_height:\n",
    "        break\n",
    "    height = new_height\n",
    "\n",
    "print(\"Scrolling complete. Ready to scrape.\")\n"
   ]
  },
  {
   "cell_type": "code",
   "execution_count": null,
   "id": "833a112a-3c82-492b-9095-52de51760150",
   "metadata": {},
   "outputs": [],
   "source": []
  }
 ],
 "metadata": {
  "kernelspec": {
   "display_name": "Python 3 (ipykernel)",
   "language": "python",
   "name": "python3"
  },
  "language_info": {
   "codemirror_mode": {
    "name": "ipython",
    "version": 3
   },
   "file_extension": ".py",
   "mimetype": "text/x-python",
   "name": "python",
   "nbconvert_exporter": "python",
   "pygments_lexer": "ipython3",
   "version": "3.12.4"
  }
 },
 "nbformat": 4,
 "nbformat_minor": 5
}
