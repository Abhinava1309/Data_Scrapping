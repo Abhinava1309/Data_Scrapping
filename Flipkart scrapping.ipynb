{
 "cells": [
  {
   "cell_type": "code",
   "execution_count": 376,
   "id": "3e4aa1a9-d1d6-4b5c-88b8-77b41abb8fd3",
   "metadata": {},
   "outputs": [],
   "source": []
  },
  {
   "cell_type": "code",
   "execution_count": 388,
   "id": "17c3561e-e002-4e2e-941c-4a8c3010ce53",
   "metadata": {},
   "outputs": [
    {
     "name": "stdout",
     "output_type": "stream",
     "text": [
      "                                         Device  \\\n",
      "0             realme P3 5G (Comet Grey, 128 GB)   \n",
      "1                  realme 12 5G (Green, 128 GB)   \n",
      "2  Infinix Note 50s 5G+ (Titanium Grey, 128 GB)   \n",
      "3    Samsung Galaxy A16 5G (Blue Black, 128 GB)   \n",
      "4     REDMI Note 14 5G (Phantom Purple, 128 GB)   \n",
      "5           Ambrane 20000 mAh 22.5 W Power Bank   \n",
      "\n",
      "                                         Description    Price Rating  \n",
      "0  6 GB RAM | 128 GB ROM | Expandable Upto 2 TB16...  ₹15,999    4.4  \n",
      "1  6 GB RAM | 128 GB ROM | Expandable Upto 2 TB17...  ₹16,999    4.4  \n",
      "2  8 GB RAM | 128 GB ROM17.22 cm (6.78 inch) Full...  ₹15,999    4.4  \n",
      "3  8 GB RAM | 128 GB ROM17.02 cm (6.7 inch) Full ...  ₹15,859    4.2  \n",
      "4  8 GB RAM | 128 GB ROM16.94 cm (6.67 inch) Disp...  ₹17,925    4.2  \n",
      "5  Weight: 320 g | Capacity: 20000 mAhLithium Pol...   ₹1,599    4.2  \n"
     ]
    }
   ],
   "source": [
    "import pandas as pd\n",
    "import requests\n",
    "from bs4 import BeautifulSoup\n",
    "import time\n",
    "\n",
    "columns = [\"Device\", \"Description\", \"Price\", \"Rating\"]\n",
    "df = pd.DataFrame(columns=columns)\n",
    "\n",
    "for j in range(2, 11):  # Pages 2 to 10\n",
    "    url = f\"https://www.flipkart.com/search?q=best+phone+under+20000&page={j}\"\n",
    "    r = requests.get(url, headers={\"User-Agent\": \"Mozilla/5.0\"})\n",
    "    soup = BeautifulSoup(r.text, \"lxml\")\n",
    "    boxs = soup.find_all(\"div\", class_=\"DOjaWF gdgoEp\")\n",
    "\n",
    "    for i in boxs:\n",
    "        # Device\n",
    "        header = i.find(\"div\", class_=\"KzDlHZ\")\n",
    "        device = header.text.strip() if header else \"\"\n",
    "\n",
    "        # Description\n",
    "        des = i.find(\"div\", class_=\"_6NESgJ\")\n",
    "        description = des.text.strip() if des else \"\"\n",
    "\n",
    "        # Price\n",
    "        price = i.find(\"div\", class_=\"Nx9bqj _4b5DiR\")\n",
    "        price_text = price.text.strip() if price else \"\"\n",
    "\n",
    "        # Rating\n",
    "        rat = i.find(\"div\", class_=\"XQDdHH\")\n",
    "        rating = rat.text.strip() if rat else \"\"\n",
    "\n",
    "        # Append row to DataFrame\n",
    "        df.loc[len(df)] = [device, description, price_text, rating]\n",
    "\n",
    "    # To avoid being blocked by Flipkart\n",
    "    time.sleep(1)\n",
    "\n",
    "# Preview results\n",
    "print(df)\n",
    "\n",
    "# Optional: Save to CSV\n",
    "# df.to_csv(\"flipkart_best_phones.csv\", index=False)\n"
   ]
  },
  {
   "cell_type": "code",
   "execution_count": 340,
   "id": "79e481c6-1aaf-4e1a-9c3e-0a203cfd9390",
   "metadata": {},
   "outputs": [],
   "source": []
  },
  {
   "cell_type": "code",
   "execution_count": null,
   "id": "1ae3ab79-311c-433b-87db-26c67d76161a",
   "metadata": {},
   "outputs": [],
   "source": [
    "\n"
   ]
  },
  {
   "cell_type": "code",
   "execution_count": 267,
   "id": "e931fd7d-e718-4aa0-82c3-7c654fa140d8",
   "metadata": {},
   "outputs": [],
   "source": []
  },
  {
   "cell_type": "code",
   "execution_count": 277,
   "id": "9d7a81aa-6829-4b90-bbbc-c45549525d70",
   "metadata": {},
   "outputs": [],
   "source": []
  },
  {
   "cell_type": "code",
   "execution_count": null,
   "id": "57c7296e-f5e1-4ab6-99b1-2ced096f5205",
   "metadata": {},
   "outputs": [],
   "source": []
  },
  {
   "cell_type": "code",
   "execution_count": null,
   "id": "14f2d17a-a72e-449c-9506-4decc8f04c8b",
   "metadata": {},
   "outputs": [],
   "source": [
    "\n",
    "  \n"
   ]
  },
  {
   "cell_type": "code",
   "execution_count": null,
   "id": "cd6e9451-03b9-4fe6-bfa5-00328b789813",
   "metadata": {},
   "outputs": [],
   "source": [
    "\n",
    "    \n"
   ]
  },
  {
   "cell_type": "code",
   "execution_count": null,
   "id": "3a187245-0292-45bf-b03e-535acd8f033a",
   "metadata": {},
   "outputs": [],
   "source": []
  },
  {
   "cell_type": "code",
   "execution_count": null,
   "id": "686be9f3-7a8e-45fd-b0a4-c9f039ceaa5a",
   "metadata": {},
   "outputs": [],
   "source": []
  }
 ],
 "metadata": {
  "kernelspec": {
   "display_name": "Python 3 (ipykernel)",
   "language": "python",
   "name": "python3"
  },
  "language_info": {
   "codemirror_mode": {
    "name": "ipython",
    "version": 3
   },
   "file_extension": ".py",
   "mimetype": "text/x-python",
   "name": "python",
   "nbconvert_exporter": "python",
   "pygments_lexer": "ipython3",
   "version": "3.12.4"
  }
 },
 "nbformat": 4,
 "nbformat_minor": 5
}
