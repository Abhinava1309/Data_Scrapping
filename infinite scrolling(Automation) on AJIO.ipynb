{
 "cells": [
  {
   "cell_type": "code",
   "execution_count": 459,
   "id": "069b6e21-61cc-49f8-a2f8-903f0434cf07",
   "metadata": {},
   "outputs": [
    {
     "ename": "InvalidSessionIdException",
     "evalue": "Message: invalid session id: session deleted as the browser has closed the connection\nfrom disconnected: not connected to DevTools\n  (Session info: chrome=137.0.7151.120)\nStacktrace:\n\tGetHandleVerifier [0x0x7ff6b9fccda5+78885]\n\tGetHandleVerifier [0x0x7ff6b9fcce00+78976]\n\t(No symbol) [0x0x7ff6b9d89bca]\n\t(No symbol) [0x0x7ff6b9d759b5]\n\t(No symbol) [0x0x7ff6b9d9a9ca]\n\t(No symbol) [0x0x7ff6b9e105e5]\n\t(No symbol) [0x0x7ff6b9e30b42]\n\t(No symbol) [0x0x7ff6b9e08963]\n\t(No symbol) [0x0x7ff6b9dd16b1]\n\t(No symbol) [0x0x7ff6b9dd2443]\n\tGetHandleVerifier [0x0x7ff6ba2a4eed+3061101]\n\tGetHandleVerifier [0x0x7ff6ba29f33d+3037629]\n\tGetHandleVerifier [0x0x7ff6ba2be592+3165202]\n\tGetHandleVerifier [0x0x7ff6b9fe730e+186766]\n\tGetHandleVerifier [0x0x7ff6b9feeb3f+217535]\n\tGetHandleVerifier [0x0x7ff6b9fd59b4+114740]\n\tGetHandleVerifier [0x0x7ff6b9fd5b69+115177]\n\tGetHandleVerifier [0x0x7ff6b9fbc368+10728]\n\tBaseThreadInitThunk [0x0x7fffab50259d+29]\n\tRtlUserThreadStart [0x0x7fffaba8af78+40]\n",
     "output_type": "error",
     "traceback": [
      "\u001b[1;31m---------------------------------------------------------------------------\u001b[0m",
      "\u001b[1;31mInvalidSessionIdException\u001b[0m                 Traceback (most recent call last)",
      "Cell \u001b[1;32mIn[459], line 27\u001b[0m\n\u001b[0;32m     24\u001b[0m time\u001b[38;5;241m.\u001b[39msleep(\u001b[38;5;241m3\u001b[39m)\n\u001b[0;32m     26\u001b[0m \u001b[38;5;66;03m# Click on 'MEN' (optional)\u001b[39;00m\n\u001b[1;32m---> 27\u001b[0m \u001b[43mdriver\u001b[49m\u001b[38;5;241;43m.\u001b[39;49m\u001b[43mfind_element\u001b[49m\u001b[43m(\u001b[49m\u001b[43mBy\u001b[49m\u001b[38;5;241;43m.\u001b[39;49m\u001b[43mXPATH\u001b[49m\u001b[43m,\u001b[49m\u001b[43m \u001b[49m\u001b[38;5;124;43m'\u001b[39;49m\u001b[38;5;124;43m//*[@id=\u001b[39;49m\u001b[38;5;124;43m\"\u001b[39;49m\u001b[38;5;124;43mappContainer\u001b[39;49m\u001b[38;5;124;43m\"\u001b[39;49m\u001b[38;5;124;43m]/div[1]/div/header/div[3]/div[1]/ul/li[1]/a\u001b[39;49m\u001b[38;5;124;43m'\u001b[39;49m\u001b[43m)\u001b[49m\u001b[38;5;241m.\u001b[39mclick()\n\u001b[0;32m     28\u001b[0m time\u001b[38;5;241m.\u001b[39msleep(\u001b[38;5;241m3\u001b[39m)\n\u001b[0;32m     30\u001b[0m \u001b[38;5;66;03m# Search for sports shoes\u001b[39;00m\n",
      "File \u001b[1;32mD:\\anaconda3\\Lib\\site-packages\\selenium\\webdriver\\remote\\webdriver.py:914\u001b[0m, in \u001b[0;36mWebDriver.find_element\u001b[1;34m(self, by, value)\u001b[0m\n\u001b[0;32m    911\u001b[0m         \u001b[38;5;28;01mraise\u001b[39;00m NoSuchElementException(\u001b[38;5;124mf\u001b[39m\u001b[38;5;124m\"\u001b[39m\u001b[38;5;124mCannot locate relative element with: \u001b[39m\u001b[38;5;132;01m{\u001b[39;00mby\u001b[38;5;241m.\u001b[39mroot\u001b[38;5;132;01m}\u001b[39;00m\u001b[38;5;124m\"\u001b[39m)\n\u001b[0;32m    912\u001b[0m     \u001b[38;5;28;01mreturn\u001b[39;00m elements[\u001b[38;5;241m0\u001b[39m]\n\u001b[1;32m--> 914\u001b[0m \u001b[38;5;28;01mreturn\u001b[39;00m \u001b[38;5;28;43mself\u001b[39;49m\u001b[38;5;241;43m.\u001b[39;49m\u001b[43mexecute\u001b[49m\u001b[43m(\u001b[49m\u001b[43mCommand\u001b[49m\u001b[38;5;241;43m.\u001b[39;49m\u001b[43mFIND_ELEMENT\u001b[49m\u001b[43m,\u001b[49m\u001b[43m \u001b[49m\u001b[43m{\u001b[49m\u001b[38;5;124;43m\"\u001b[39;49m\u001b[38;5;124;43musing\u001b[39;49m\u001b[38;5;124;43m\"\u001b[39;49m\u001b[43m:\u001b[49m\u001b[43m \u001b[49m\u001b[43mby\u001b[49m\u001b[43m,\u001b[49m\u001b[43m \u001b[49m\u001b[38;5;124;43m\"\u001b[39;49m\u001b[38;5;124;43mvalue\u001b[39;49m\u001b[38;5;124;43m\"\u001b[39;49m\u001b[43m:\u001b[49m\u001b[43m \u001b[49m\u001b[43mvalue\u001b[49m\u001b[43m}\u001b[49m\u001b[43m)\u001b[49m[\u001b[38;5;124m\"\u001b[39m\u001b[38;5;124mvalue\u001b[39m\u001b[38;5;124m\"\u001b[39m]\n",
      "File \u001b[1;32mD:\\anaconda3\\Lib\\site-packages\\selenium\\webdriver\\remote\\webdriver.py:447\u001b[0m, in \u001b[0;36mWebDriver.execute\u001b[1;34m(self, driver_command, params)\u001b[0m\n\u001b[0;32m    445\u001b[0m response \u001b[38;5;241m=\u001b[39m \u001b[38;5;28mself\u001b[39m\u001b[38;5;241m.\u001b[39mcommand_executor\u001b[38;5;241m.\u001b[39mexecute(driver_command, params)\n\u001b[0;32m    446\u001b[0m \u001b[38;5;28;01mif\u001b[39;00m response:\n\u001b[1;32m--> 447\u001b[0m     \u001b[38;5;28;43mself\u001b[39;49m\u001b[38;5;241;43m.\u001b[39;49m\u001b[43merror_handler\u001b[49m\u001b[38;5;241;43m.\u001b[39;49m\u001b[43mcheck_response\u001b[49m\u001b[43m(\u001b[49m\u001b[43mresponse\u001b[49m\u001b[43m)\u001b[49m\n\u001b[0;32m    448\u001b[0m     response[\u001b[38;5;124m\"\u001b[39m\u001b[38;5;124mvalue\u001b[39m\u001b[38;5;124m\"\u001b[39m] \u001b[38;5;241m=\u001b[39m \u001b[38;5;28mself\u001b[39m\u001b[38;5;241m.\u001b[39m_unwrap_value(response\u001b[38;5;241m.\u001b[39mget(\u001b[38;5;124m\"\u001b[39m\u001b[38;5;124mvalue\u001b[39m\u001b[38;5;124m\"\u001b[39m, \u001b[38;5;28;01mNone\u001b[39;00m))\n\u001b[0;32m    449\u001b[0m     \u001b[38;5;28;01mreturn\u001b[39;00m response\n",
      "File \u001b[1;32mD:\\anaconda3\\Lib\\site-packages\\selenium\\webdriver\\remote\\errorhandler.py:232\u001b[0m, in \u001b[0;36mErrorHandler.check_response\u001b[1;34m(self, response)\u001b[0m\n\u001b[0;32m    230\u001b[0m         alert_text \u001b[38;5;241m=\u001b[39m value[\u001b[38;5;124m\"\u001b[39m\u001b[38;5;124malert\u001b[39m\u001b[38;5;124m\"\u001b[39m]\u001b[38;5;241m.\u001b[39mget(\u001b[38;5;124m\"\u001b[39m\u001b[38;5;124mtext\u001b[39m\u001b[38;5;124m\"\u001b[39m)\n\u001b[0;32m    231\u001b[0m     \u001b[38;5;28;01mraise\u001b[39;00m exception_class(message, screen, stacktrace, alert_text)  \u001b[38;5;66;03m# type: ignore[call-arg]  # mypy is not smart enough here\u001b[39;00m\n\u001b[1;32m--> 232\u001b[0m \u001b[38;5;28;01mraise\u001b[39;00m exception_class(message, screen, stacktrace)\n",
      "\u001b[1;31mInvalidSessionIdException\u001b[0m: Message: invalid session id: session deleted as the browser has closed the connection\nfrom disconnected: not connected to DevTools\n  (Session info: chrome=137.0.7151.120)\nStacktrace:\n\tGetHandleVerifier [0x0x7ff6b9fccda5+78885]\n\tGetHandleVerifier [0x0x7ff6b9fcce00+78976]\n\t(No symbol) [0x0x7ff6b9d89bca]\n\t(No symbol) [0x0x7ff6b9d759b5]\n\t(No symbol) [0x0x7ff6b9d9a9ca]\n\t(No symbol) [0x0x7ff6b9e105e5]\n\t(No symbol) [0x0x7ff6b9e30b42]\n\t(No symbol) [0x0x7ff6b9e08963]\n\t(No symbol) [0x0x7ff6b9dd16b1]\n\t(No symbol) [0x0x7ff6b9dd2443]\n\tGetHandleVerifier [0x0x7ff6ba2a4eed+3061101]\n\tGetHandleVerifier [0x0x7ff6ba29f33d+3037629]\n\tGetHandleVerifier [0x0x7ff6ba2be592+3165202]\n\tGetHandleVerifier [0x0x7ff6b9fe730e+186766]\n\tGetHandleVerifier [0x0x7ff6b9feeb3f+217535]\n\tGetHandleVerifier [0x0x7ff6b9fd59b4+114740]\n\tGetHandleVerifier [0x0x7ff6b9fd5b69+115177]\n\tGetHandleVerifier [0x0x7ff6b9fbc368+10728]\n\tBaseThreadInitThunk [0x0x7fffab50259d+29]\n\tRtlUserThreadStart [0x0x7fffaba8af78+40]\n"
     ]
    }
   ],
   "source": [
    "from selenium import webdriver\n",
    "from selenium.webdriver.chrome.service import Service\n",
    "from selenium.webdriver.common.by import By\n",
    "from selenium.webdriver.common.keys import Keys\n",
    "from selenium.webdriver.chrome.options import Options\n",
    "import time\n",
    "\n",
    "# Path to ChromeDriver\n",
    "path = r\"C:\\Users\\Lenovo\\Downloads\\chromedriver-win64\\chromedriver-win64\\chromedriver.exe\"\n",
    "s = Service(path)\n",
    "\n",
    "# Chrome Options to reduce detection\n",
    "options = Options()\n",
    "options.add_argument(\"user-agent=Mozilla/5.0 (Windows NT 10.0; Win64; x64) AppleWebKit/537.36 (KHTML, like Gecko) Chrome/122.0.0.0 Safari/537.36\")\n",
    "options.add_argument(\"--disable-blink-features=AutomationControlled\")\n",
    "options.add_experimental_option(\"excludeSwitches\", [\"enable-automation\"])\n",
    "options.add_experimental_option(\"useAutomationExtension\", False)\n",
    "\n",
    "# Launch browser with options\n",
    "driver = webdriver.Chrome(service=s, options=options)\n",
    "\n",
    "# Visit Ajio\n",
    "driver.get(\"https://www.ajio.com/\")\n",
    "time.sleep(3)\n",
    "\n",
    "# Click on 'MEN' (optional)\n",
    "driver.find_element(By.XPATH, '//*[@id=\"appContainer\"]/div[1]/div/header/div[3]/div[1]/ul/li[1]/a').click()\n",
    "time.sleep(3)\n",
    "\n",
    "# Search for sports shoes\n",
    "sb = driver.find_element(By.XPATH, '//*[@id=\"appContainer\"]/div[1]/div/header/div[3]/div[2]/form/div/div/input')\n",
    "time.sleep(2)\n",
    "sb.send_keys(\"Sports Shoes\")\n",
    "sb.send_keys(Keys.ENTER)\n",
    "time.sleep(5)\n",
    "\n",
    "# Scroll to bottom until page stops loading more content\n",
    "height = driver.execute_script(\"return document.body.scrollHeight\")\n",
    "while True:\n",
    "    driver.execute_script(\"window.scrollTo(0, document.body.scrollHeight);\")\n",
    "    time.sleep(3)\n",
    "    new_height = driver.execute_script(\"return document.body.scrollHeight\")\n",
    "    if height == new_height:\n",
    "        break\n",
    "    height = new_height\n",
    "\n",
    "print(\"Scrolling complete. Ready to scrape.\")\n"
   ]
  },
  {
   "cell_type": "code",
   "execution_count": null,
   "id": "1b722fdd-00eb-4f37-933c-35214f557d58",
   "metadata": {},
   "outputs": [],
   "source": []
  }
 ],
 "metadata": {
  "kernelspec": {
   "display_name": "Python 3 (ipykernel)",
   "language": "python",
   "name": "python3"
  },
  "language_info": {
   "codemirror_mode": {
    "name": "ipython",
    "version": 3
   },
   "file_extension": ".py",
   "mimetype": "text/x-python",
   "name": "python",
   "nbconvert_exporter": "python",
   "pygments_lexer": "ipython3",
   "version": "3.12.4"
  }
 },
 "nbformat": 4,
 "nbformat_minor": 5
}
