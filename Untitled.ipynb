{
 "cells": [
  {
   "cell_type": "code",
   "execution_count": 38,
   "id": "35094b38-3b6c-4510-932a-78a2e7446425",
   "metadata": {},
   "outputs": [],
   "source": [
    "import requests\n",
    "from bs4 import BeautifulSoup"
   ]
  },
  {
   "cell_type": "code",
   "execution_count": 18,
   "id": "dfe95a2a-48fc-4ad8-a764-530693cdb783",
   "metadata": {},
   "outputs": [],
   "source": [
    "url=\"https://webscraper.io/test-sites/e-commerce/allinone\"\n"
   ]
  },
  {
   "cell_type": "code",
   "execution_count": 24,
   "id": "626f28a6-e3ed-4511-a34a-e8707682639b",
   "metadata": {},
   "outputs": [],
   "source": [
    "req=requests.get(url)"
   ]
  },
  {
   "cell_type": "code",
   "execution_count": 58,
   "id": "ca909d94-7df5-4f66-9aa0-be432e314edd",
   "metadata": {},
   "outputs": [],
   "source": [
    "soup=BeautifulSoup(req.text,\"html.parser\")"
   ]
  },
  {
   "cell_type": "code",
   "execution_count": 62,
   "id": "a2a0ac7a-8ac6-4e8c-80e0-f42b87bf7603",
   "metadata": {},
   "outputs": [],
   "source": [
    "boxs=soup.find_all(\"div\",class_=\"col-md-4 col-xl-4 col-lg-4\")"
   ]
  },
  {
   "cell_type": "code",
   "execution_count": 64,
   "id": "4c4fa9a9-8ccd-4791-9016-74e7f1f841f6",
   "metadata": {},
   "outputs": [
    {
     "data": {
      "text/plain": [
       "[<div class=\"col-md-4 col-xl-4 col-lg-4\">\n",
       " <div class=\"card thumbnail\" itemscope=\"\" itemtype=\"https://schema.org/Product\">\n",
       " <div class=\"product-wrapper card-body\">\n",
       " <img alt=\"item\" class=\"img-fluid card-img-top image img-responsive\" itemprop=\"image\" src=\"/images/test-sites/e-commerce/items/cart2.png\"/>\n",
       " <div class=\"caption\">\n",
       " <h4 class=\"price float-end card-title pull-right\" itemprop=\"offers\" itemscope=\"\" itemtype=\"https://schema.org/Offer\">\n",
       " <span itemprop=\"price\">$494.71</span>\n",
       " <meta content=\"USD\" itemprop=\"priceCurrency\"/>\n",
       " </h4>\n",
       " <h4>\n",
       " <a class=\"title\" href=\"/test-sites/e-commerce/allinone/product/91\" itemprop=\"name\" title=\"Acer Aspire 3 A315-51 Black\">\n",
       " \t\t\t\t\t\tAcer Aspire 3...\n",
       " \t\t\t\t\t</a>\n",
       " </h4>\n",
       " <p class=\"description card-text\" itemprop=\"description\">Acer Aspire 3 A315-51 Black, 15.6\" FHD, Core i3-7100U, 4GB, 500GB + 128GB SSD, Windows 10 Home</p>\n",
       " </div>\n",
       " <div class=\"ratings\" itemprop=\"aggregateRating\" itemscope=\"\" itemtype=\"https://schema.org/AggregateRating\">\n",
       " <p class=\"review-count float-end\">\n",
       " <span itemprop=\"reviewCount\">2</span> reviews\n",
       " \t\t\t\t</p>\n",
       " <p data-rating=\"4\">\n",
       " <span class=\"ws-icon ws-icon-star\"></span>\n",
       " <span class=\"ws-icon ws-icon-star\"></span>\n",
       " <span class=\"ws-icon ws-icon-star\"></span>\n",
       " <span class=\"ws-icon ws-icon-star\"></span>\n",
       " </p>\n",
       " </div>\n",
       " </div>\n",
       " </div>\n",
       " </div>,\n",
       " <div class=\"col-md-4 col-xl-4 col-lg-4\">\n",
       " <div class=\"card thumbnail\" itemscope=\"\" itemtype=\"https://schema.org/Product\">\n",
       " <div class=\"product-wrapper card-body\">\n",
       " <img alt=\"item\" class=\"img-fluid card-img-top image img-responsive\" itemprop=\"image\" src=\"/images/test-sites/e-commerce/items/cart2.png\"/>\n",
       " <div class=\"caption\">\n",
       " <h4 class=\"price float-end card-title pull-right\" itemprop=\"offers\" itemscope=\"\" itemtype=\"https://schema.org/Offer\">\n",
       " <span itemprop=\"price\">$1199.73</span>\n",
       " <meta content=\"USD\" itemprop=\"priceCurrency\"/>\n",
       " </h4>\n",
       " <h4>\n",
       " <a class=\"title\" href=\"/test-sites/e-commerce/allinone/product/123\" itemprop=\"name\" title=\"Lenovo Yoga 910 Grey\">\n",
       " \t\t\t\t\t\tLenovo Yoga 91...\n",
       " \t\t\t\t\t</a>\n",
       " </h4>\n",
       " <p class=\"description card-text\" itemprop=\"description\">Lenovo Yoga 910 Grey, 13.9\" FHD Touch, Core i5-7200U, 8GB, 256GB SSD, Windows 10 Home</p>\n",
       " </div>\n",
       " <div class=\"ratings\" itemprop=\"aggregateRating\" itemscope=\"\" itemtype=\"https://schema.org/AggregateRating\">\n",
       " <p class=\"review-count float-end\">\n",
       " <span itemprop=\"reviewCount\">7</span> reviews\n",
       " \t\t\t\t</p>\n",
       " <p data-rating=\"3\">\n",
       " <span class=\"ws-icon ws-icon-star\"></span>\n",
       " <span class=\"ws-icon ws-icon-star\"></span>\n",
       " <span class=\"ws-icon ws-icon-star\"></span>\n",
       " </p>\n",
       " </div>\n",
       " </div>\n",
       " </div>\n",
       " </div>,\n",
       " <div class=\"col-md-4 col-xl-4 col-lg-4\">\n",
       " <div class=\"card thumbnail\" itemscope=\"\" itemtype=\"https://schema.org/Product\">\n",
       " <div class=\"product-wrapper card-body\">\n",
       " <img alt=\"item\" class=\"img-fluid card-img-top image img-responsive\" itemprop=\"image\" src=\"/images/test-sites/e-commerce/items/cart2.png\"/>\n",
       " <div class=\"caption\">\n",
       " <h4 class=\"price float-end card-title pull-right\" itemprop=\"offers\" itemscope=\"\" itemtype=\"https://schema.org/Offer\">\n",
       " <span itemprop=\"price\">$1799</span>\n",
       " <meta content=\"USD\" itemprop=\"priceCurrency\"/>\n",
       " </h4>\n",
       " <h4>\n",
       " <a class=\"title\" href=\"/test-sites/e-commerce/allinone/product/59\" itemprop=\"name\" title=\"Asus ROG Strix SCAR Edition GL503VM-ED115T\">\n",
       " \t\t\t\t\t\tAsus ROG Strix...\n",
       " \t\t\t\t\t</a>\n",
       " </h4>\n",
       " <p class=\"description card-text\" itemprop=\"description\">Asus ROG Strix SCAR Edition GL503VM-ED115T, 15.6\" FHD 120Hz, Core i7-7700HQ, 16GB, 256GB SSD + 1TB SSHD, GeForce GTX 1060 6GB, Windows 10 Home</p>\n",
       " </div>\n",
       " <div class=\"ratings\" itemprop=\"aggregateRating\" itemscope=\"\" itemtype=\"https://schema.org/AggregateRating\">\n",
       " <p class=\"review-count float-end\">\n",
       " <span itemprop=\"reviewCount\">8</span> reviews\n",
       " \t\t\t\t</p>\n",
       " <p data-rating=\"3\">\n",
       " <span class=\"ws-icon ws-icon-star\"></span>\n",
       " <span class=\"ws-icon ws-icon-star\"></span>\n",
       " <span class=\"ws-icon ws-icon-star\"></span>\n",
       " </p>\n",
       " </div>\n",
       " </div>\n",
       " </div>\n",
       " </div>]"
      ]
     },
     "execution_count": 64,
     "metadata": {},
     "output_type": "execute_result"
    }
   ],
   "source": [
    "boxs"
   ]
  },
  {
   "cell_type": "code",
   "execution_count": 82,
   "id": "c6730a15-14f4-46b8-8995-3b6d2bc747f5",
   "metadata": {},
   "outputs": [],
   "source": [
    "title=soup.find_all(\"a\",class_=\"title\")"
   ]
  },
  {
   "cell_type": "code",
   "execution_count": 84,
   "id": "33c59276-14a4-4510-a612-38232794cda8",
   "metadata": {},
   "outputs": [
    {
     "name": "stdout",
     "output_type": "stream",
     "text": [
      "[<a class=\"title\" href=\"/test-sites/e-commerce/allinone/product/91\" itemprop=\"name\" title=\"Acer Aspire 3 A315-51 Black\">\n",
      "\t\t\t\t\t\tAcer Aspire 3...\n",
      "\t\t\t\t\t</a>, <a class=\"title\" href=\"/test-sites/e-commerce/allinone/product/123\" itemprop=\"name\" title=\"Lenovo Yoga 910 Grey\">\n",
      "\t\t\t\t\t\tLenovo Yoga 91...\n",
      "\t\t\t\t\t</a>, <a class=\"title\" href=\"/test-sites/e-commerce/allinone/product/59\" itemprop=\"name\" title=\"Asus ROG Strix SCAR Edition GL503VM-ED115T\">\n",
      "\t\t\t\t\t\tAsus ROG Strix...\n",
      "\t\t\t\t\t</a>]\n"
     ]
    }
   ],
   "source": [
    "print(title)\n"
   ]
  },
  {
   "cell_type": "code",
   "execution_count": 88,
   "id": "ee2e5fea-d0ad-4249-8767-3a6c4d34cc50",
   "metadata": {},
   "outputs": [
    {
     "name": "stdout",
     "output_type": "stream",
     "text": [
      "\n",
      "\t\t\t\t\t\tAcer Aspire 3...\n",
      "\t\t\t\t\t\n",
      "\n",
      "\t\t\t\t\t\tLenovo Yoga 91...\n",
      "\t\t\t\t\t\n",
      "\n",
      "\t\t\t\t\t\tAsus ROG Strix...\n",
      "\t\t\t\t\t\n"
     ]
    }
   ],
   "source": [
    "for i in title:\n",
    "    print (i.text)"
   ]
  },
  {
   "cell_type": "code",
   "execution_count": 90,
   "id": "ed7a85c4-e98a-426f-87b4-e52a911417a0",
   "metadata": {},
   "outputs": [],
   "source": [
    "price=soup.find_all(\"h4\",class_=\"price float-end card-title pull-right\")"
   ]
  },
  {
   "cell_type": "code",
   "execution_count": 94,
   "id": "80033f66-1086-4b10-8a40-e573b9004b0f",
   "metadata": {},
   "outputs": [
    {
     "name": "stdout",
     "output_type": "stream",
     "text": [
      "\n",
      "$494.71\n",
      "\n",
      "\n",
      "\n",
      "$1199.73\n",
      "\n",
      "\n",
      "\n",
      "$1799\n",
      "\n",
      "\n"
     ]
    }
   ],
   "source": [
    "for i in price:\n",
    "    print(i.text)"
   ]
  },
  {
   "cell_type": "code",
   "execution_count": 96,
   "id": "b321b837-de19-4ddb-a31d-0c5e600b13a9",
   "metadata": {},
   "outputs": [],
   "source": [
    "des=soup.find_all(\"p\",class_=\"description card-text\")"
   ]
  },
  {
   "cell_type": "code",
   "execution_count": 98,
   "id": "343a9f6a-77b1-45a6-bc22-321f09fbd5e1",
   "metadata": {},
   "outputs": [
    {
     "name": "stdout",
     "output_type": "stream",
     "text": [
      "Acer Aspire 3 A315-51 Black, 15.6\" FHD, Core i3-7100U, 4GB, 500GB + 128GB SSD, Windows 10 Home\n",
      "Lenovo Yoga 910 Grey, 13.9\" FHD Touch, Core i5-7200U, 8GB, 256GB SSD, Windows 10 Home\n",
      "Asus ROG Strix SCAR Edition GL503VM-ED115T, 15.6\" FHD 120Hz, Core i7-7700HQ, 16GB, 256GB SSD + 1TB SSHD, GeForce GTX 1060 6GB, Windows 10 Home\n"
     ]
    }
   ],
   "source": [
    "for i in des:\n",
    "    print(i.text)"
   ]
  },
  {
   "cell_type": "code",
   "execution_count": null,
   "id": "5f1a2f94-80ea-4251-8adb-6ccf325d1eeb",
   "metadata": {},
   "outputs": [],
   "source": []
  },
  {
   "cell_type": "code",
   "execution_count": null,
   "id": "5110393f-4be2-4554-98b6-8836ee0ae017",
   "metadata": {},
   "outputs": [],
   "source": []
  },
  {
   "cell_type": "code",
   "execution_count": null,
   "id": "e1655f9b-8f1e-46e0-bdef-97bbf9ca02ae",
   "metadata": {},
   "outputs": [],
   "source": []
  }
 ],
 "metadata": {
  "kernelspec": {
   "display_name": "Python 3 (ipykernel)",
   "language": "python",
   "name": "python3"
  },
  "language_info": {
   "codemirror_mode": {
    "name": "ipython",
    "version": 3
   },
   "file_extension": ".py",
   "mimetype": "text/x-python",
   "name": "python",
   "nbconvert_exporter": "python",
   "pygments_lexer": "ipython3",
   "version": "3.12.4"
  }
 },
 "nbformat": 4,
 "nbformat_minor": 5
}
